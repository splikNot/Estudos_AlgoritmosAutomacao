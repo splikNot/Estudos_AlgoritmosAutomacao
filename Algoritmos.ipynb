{
  "nbformat": 4,
  "nbformat_minor": 0,
  "metadata": {
    "colab": {
      "provenance": [],
      "toc_visible": true
    },
    "kernelspec": {
      "name": "python3",
      "display_name": "Python 3"
    },
    "language_info": {
      "name": "python"
    }
  },
  "cells": [
    {
      "cell_type": "markdown",
      "source": [
        "# Algoritmos"
      ],
      "metadata": {
        "id": "FDwK64QYJwII"
      }
    },
    {
      "cell_type": "code",
      "source": [
        "import random"
      ],
      "metadata": {
        "id": "IC199KQjQUW-"
      },
      "execution_count": null,
      "outputs": []
    },
    {
      "cell_type": "code",
      "source": [
        "# Função para criar arrays aleatórios\n",
        "def test_array():\n",
        "    return random.sample(range(51), 25)\n"
      ],
      "metadata": {
        "id": "faN4YRoTP-D6"
      },
      "execution_count": null,
      "outputs": []
    },
    {
      "cell_type": "markdown",
      "source": [
        "Algoritmo é um procedimento descrito passo a passo para resolução de um problema em tempo finito.\n",
        "\n",
        "Um algoritmo é análisado pelos fatores:\n",
        "* Tempo de execução\n",
        "* Complexidade\n",
        "* Consumo de memória\n",
        "* Eficiência de execução\n",
        "    - Qualidade de código\n",
        "    - Tipo de processador\n",
        "    - Qualidade do compilador\n",
        "    - Linguagem de programção"
      ],
      "metadata": {
        "id": "_qFoBD_-GyeW"
      }
    },
    {
      "cell_type": "markdown",
      "source": [
        "### Técnicas para algoritmos iterativos"
      ],
      "metadata": {
        "id": "OiAXo9RWJQO5"
      }
    },
    {
      "cell_type": "markdown",
      "source": [
        "* Identifique as pré-condições do algoritmo\n",
        "* Idenfique os laços\n",
        "* Identifique as condições de permanencia no laço\n",
        "* Mostre que há finitude (As consições são eventualmente atendidas)\n",
        "* Identifique a regra de transição (lei de recorrência) em cada laço\n",
        "* Encontre um invariante adequado ao algoritmo. (Propriedades ou proposições lógicas que permanecem inalteradas em todos os laços, **não são afetados pelas regras de transição**)\n",
        "* Mostre que o invariante ao final leva ao resultado correto."
      ],
      "metadata": {
        "id": "670gvX1XJ6zE"
      }
    },
    {
      "cell_type": "markdown",
      "source": [
        "### Análise Assintótica"
      ],
      "metadata": {
        "id": "MluUimRLhAsD"
      }
    },
    {
      "cell_type": "markdown",
      "source": [
        "## Sort (Ordenação)"
      ],
      "metadata": {
        "id": "lRHUY4t_LN0d"
      }
    },
    {
      "cell_type": "markdown",
      "source": [
        "### Selection Sort (Ordenação por seleção)\n"
      ],
      "metadata": {
        "id": "fRTW4PdcLVZX"
      }
    },
    {
      "cell_type": "code",
      "source": [
        "def selection_sortAsc(array):\n",
        "\n",
        "    for i in range(len(array)): # Percorremos cada elemento no array\n",
        "        min_pos = i # Posição do menor valor\n",
        "        min_val = array[i] # Valor atribuído aquela posição\n",
        "\n",
        "        for j in range(i+1, len(array)): # Percorremos todos os elementos a partir da posição inicial\n",
        "            if min_val > array[j]:  # Se for encontrado um valor menor ao registrado\n",
        "                min_val = array[j] # Registramos esse novo valor\n",
        "                min_pos = j # e posição\n",
        "\n",
        "        temp = array[i] # Salvamos o valor de array[i] numa váriavel auxiliar\n",
        "        array[i] = min_val #Trocamos o valor de array[i] pelo menor valor encontrado até então\n",
        "        array[min_pos] = temp\n",
        "\n",
        "    return array\n",
        "\n",
        "# Não é muito dífícil imaginar o que devemos fazer se quiséssemos organizar em ordem decrescente\n",
        "\n",
        "def selection_sortDesc(array):\n",
        "\n",
        "    for i in range(len(array)): # Iniciamos com o primeiro elemento sendo o maior valor encontrado até então\n",
        "        max_pos = i\n",
        "        max_val = array[i]\n",
        "\n",
        "        for j in range(i+1, len(array)): # Percorremos todos os elementos a partir de i porque todas posições anteriores já\n",
        "        # foram organizadas, nosso algoritmo sempre inicia no primeiro elemento.\n",
        "\n",
        "            if max_val < array[j]:  # Se for encontrado um valor que seja maior\n",
        "                max_val = array[j] # Registramos esse novo valor\n",
        "                max_pos = j # e a posição\n",
        "\n",
        "        temp = array[i] # Salvamos o valor de array[i] numa váriavel auxiliar\n",
        "        array[i] = max_val #Trocamos o valor de array[i] pelo menor valor encontrado até então\n",
        "        array[max_pos] = temp\n",
        "\n",
        "    return array"
      ],
      "metadata": {
        "id": "eoCzpnLQLNEj"
      },
      "execution_count": null,
      "outputs": []
    },
    {
      "cell_type": "code",
      "source": [
        "\n",
        "numeros = test_array()\n",
        "print (numeros)"
      ],
      "metadata": {
        "colab": {
          "base_uri": "https://localhost:8080/"
        },
        "id": "o38n-XzsGx0S",
        "outputId": "b9c7029a-c6a9-4637-8a0e-ddfe7bb3a516"
      },
      "execution_count": null,
      "outputs": [
        {
          "output_type": "stream",
          "name": "stdout",
          "text": [
            "[30, 34, 41, 25, 7, 1, 26, 3, 43, 14, 48, 33, 13, 20, 19, 0, 12, 23, 16, 28, 40, 24, 45, 4, 8]\n"
          ]
        }
      ]
    },
    {
      "cell_type": "code",
      "execution_count": null,
      "metadata": {
        "colab": {
          "base_uri": "https://localhost:8080/"
        },
        "id": "3DH0Dc6rlHe7",
        "outputId": "608e7fa1-d2ed-421b-f124-45c80ba64cc8"
      },
      "outputs": [
        {
          "output_type": "stream",
          "name": "stdout",
          "text": [
            "[0, 1, 3, 4, 7, 8, 12, 13, 14, 16, 19, 20, 23, 24, 25, 26, 28, 30, 33, 34, 40, 41, 43, 45, 48]\n"
          ]
        }
      ],
      "source": [
        "\n",
        "# Ordem crescente\n",
        "print(selection_sortAsc(numeros))"
      ]
    },
    {
      "cell_type": "code",
      "source": [
        "numeros = test_array()\n",
        "print (numeros)"
      ],
      "metadata": {
        "colab": {
          "base_uri": "https://localhost:8080/"
        },
        "id": "HYhYJ-0WRXIA",
        "outputId": "081fc895-4a67-4c51-a3e5-b76f4958ef23"
      },
      "execution_count": null,
      "outputs": [
        {
          "output_type": "stream",
          "name": "stdout",
          "text": [
            "[36, 40, 33, 41, 15, 16, 3, 34, 8, 30, 49, 18, 42, 46, 2, 25, 10, 29, 1, 32, 7, 47, 14, 48, 24]\n"
          ]
        }
      ]
    },
    {
      "cell_type": "code",
      "source": [
        "# Ordem decrescente\n",
        "print(selection_sortDesc(numeros))"
      ],
      "metadata": {
        "colab": {
          "base_uri": "https://localhost:8080/"
        },
        "id": "a390X3a0UeZt",
        "outputId": "7b71384d-5094-4e73-c231-2581c44dd1b6"
      },
      "execution_count": null,
      "outputs": [
        {
          "output_type": "stream",
          "name": "stdout",
          "text": [
            "[49, 48, 47, 46, 42, 41, 40, 36, 34, 33, 32, 30, 29, 25, 24, 18, 16, 15, 14, 10, 8, 7, 3, 2, 1]\n"
          ]
        }
      ]
    },
    {
      "cell_type": "markdown",
      "source": [
        "### Insertion Sort (Ordenação por inserção)"
      ],
      "metadata": {
        "id": "Ct5jgzhvUN7K"
      }
    },
    {
      "cell_type": "code",
      "source": [
        "# Pelo o que eu entendi do exemplo:\n",
        "# Inicia se um laço para percorrer o array a partir do segundo elemento\n",
        "# Verificamos se o valor da posição é menor que o da anterior\n",
        "# Enquanto a sentença anterior for positiva, trocamos de posição os dois elementos\n",
        "# Passmos assim para o próximo elemento sucessivamente, pois ao final do passo anterior espera-se colocar o elemento em sua posição\n",
        "# correta e definitiva\n",
        "\n",
        "def insertion_sortAsc(array):\n",
        "\n",
        "    for i in range(1,len(array)): # Iniciamos o laço na segunda posição\n",
        "        temp = array[i] # Salvamos o seu valor\n",
        "        j=i # E a posição em um segundo ponteiro\n",
        "\n",
        "        while j > 0 and temp < array[j-1]: # Enquanto a posição do ponteiro for maior que 0 (inicio da lista).\n",
        "                                            # E o valor for menor que a posição anterior\n",
        "            array[j] = array[j-1]       # Passamos o valor de trás para frente\n",
        "            j -= 1                    # Reduzindo o valor do ponteiro (garantindo a finitude do laço)\n",
        "\n",
        "        array[j] = temp\n",
        "\n",
        "    return array\n",
        "\n",
        "# Invertendo a lógica\n",
        "\n",
        "def insertion_sortDesc(array):\n",
        "\n",
        "    for i in range(1,len(array)): # Iniciamos o laço na segunda posição\n",
        "        temp = array[i] # Salvamos o seu valor\n",
        "        j=i # E a posição em um ponteiro\n",
        "\n",
        "        while j > 0 and temp > array[j-1]: # Enquanto a posição do ponteiro for maior que 0 (inicio da lista).\n",
        "                                            # E o valor for maior que a posição anterior\n",
        "            array[j] = array[j-1]       # Passamos o valor anterior para frente\n",
        "            j -= 1                    # Reduzindo o valor do ponteiro para testar com a posição anterior que a vizinha\n",
        "\n",
        "        array[j] = temp               # Ao final do laço while, salvamos o inicial na posição do ponteiro j.\n",
        "\n",
        "    return array\n",
        "\n",
        "\n"
      ],
      "metadata": {
        "id": "vxQ52zl4Uhe2"
      },
      "execution_count": null,
      "outputs": []
    },
    {
      "cell_type": "code",
      "source": [
        "newArray = test_array()\n",
        "print(newArray)"
      ],
      "metadata": {
        "colab": {
          "base_uri": "https://localhost:8080/"
        },
        "id": "L3efdoVMclCW",
        "outputId": "88a41146-a973-45e8-c6a3-ffb30c74bede"
      },
      "execution_count": null,
      "outputs": [
        {
          "output_type": "stream",
          "name": "stdout",
          "text": [
            "[49, 26, 4, 37, 24, 2, 16, 21, 13, 47, 29, 46, 48, 50, 0, 43, 19, 33, 28, 39, 7, 3, 42, 8, 23]\n"
          ]
        }
      ]
    },
    {
      "cell_type": "code",
      "source": [
        "print(insertion_sortAsc(newArray))"
      ],
      "metadata": {
        "colab": {
          "base_uri": "https://localhost:8080/"
        },
        "id": "HACfwdwEdPBq",
        "outputId": "1e66fe27-1889-4673-b027-d49fe390c9c5"
      },
      "execution_count": null,
      "outputs": [
        {
          "output_type": "stream",
          "name": "stdout",
          "text": [
            "[0, 2, 3, 4, 7, 8, 13, 16, 19, 21, 23, 24, 26, 28, 29, 33, 37, 39, 42, 43, 46, 47, 48, 49, 50]\n"
          ]
        }
      ]
    },
    {
      "cell_type": "code",
      "source": [
        "newArray = test_array()\n",
        "print(newArray)"
      ],
      "metadata": {
        "colab": {
          "base_uri": "https://localhost:8080/"
        },
        "id": "-YmMWtOtdh4T",
        "outputId": "9fc54530-c930-44a1-c53b-4b9b805feef1"
      },
      "execution_count": null,
      "outputs": [
        {
          "output_type": "stream",
          "name": "stdout",
          "text": [
            "[42, 31, 18, 17, 39, 45, 6, 12, 10, 33, 8, 30, 15, 41, 46, 14, 0, 28, 49, 1, 32, 44, 19, 27, 22]\n"
          ]
        }
      ]
    },
    {
      "cell_type": "code",
      "source": [
        "print(insertion_sortDesc(newArray))"
      ],
      "metadata": {
        "colab": {
          "base_uri": "https://localhost:8080/"
        },
        "id": "-XuzV2K_gOJs",
        "outputId": "d73172f1-1b65-475a-acf8-c0213c701215"
      },
      "execution_count": null,
      "outputs": [
        {
          "output_type": "stream",
          "name": "stdout",
          "text": [
            "[49, 46, 45, 44, 42, 41, 39, 33, 32, 31, 30, 28, 27, 22, 19, 18, 17, 15, 14, 12, 10, 8, 6, 1, 0]\n"
          ]
        }
      ]
    },
    {
      "cell_type": "markdown",
      "source": [
        "## Busca"
      ],
      "metadata": {
        "id": "9yYzlzWBlAAk"
      }
    },
    {
      "cell_type": "markdown",
      "source": [
        "### Busca Sequencial"
      ],
      "metadata": {
        "id": "Tl-BsdOWl8f2"
      }
    },
    {
      "cell_type": "code",
      "source": [
        "from ast import Index\n",
        "from re import I\n",
        "# Solução mais trivial para realizar uma busca. Percorrer a lista inteira em busca do elemento\n",
        "\n",
        "def search_seq(array, key):\n",
        "    for index, value in enumerate(array):\n",
        "        if value == key:\n",
        "            return index"
      ],
      "metadata": {
        "id": "RGjqsIAdl7hz"
      },
      "execution_count": null,
      "outputs": []
    },
    {
      "cell_type": "code",
      "source": [
        "fruits = [\"banana\", \"maça\", \"pera\", \"uva\", \"laranja\", \"goiaba\", \"abacate\",\"maracuja\",\"morango\",\n",
        "         \"melancia\",\"mamao\",\"carambola\",\"jabuticaba\",\"lichia\",\"limao\",\"caqui\",\"kiwi\",\"amora\",\"manga\"]"
      ],
      "metadata": {
        "id": "Vpk0ugWlmlpl"
      },
      "execution_count": null,
      "outputs": []
    },
    {
      "cell_type": "code",
      "source": [
        "%%time\n",
        "print(\"Word located at: %d\" %search_seq(fruits, \"morango\"))"
      ],
      "metadata": {
        "colab": {
          "base_uri": "https://localhost:8080/"
        },
        "id": "uwSWukangUvn",
        "outputId": "e671c513-610f-4211-b21b-b0f3c6a57395"
      },
      "execution_count": null,
      "outputs": [
        {
          "output_type": "stream",
          "name": "stdout",
          "text": [
            "Word located at: 8\n",
            "CPU times: user 49 µs, sys: 12 µs, total: 61 µs\n",
            "Wall time: 65.8 µs\n"
          ]
        }
      ]
    },
    {
      "cell_type": "markdown",
      "source": [
        "### Busca Binária"
      ],
      "metadata": {
        "id": "tJc70rSsrQT7"
      }
    },
    {
      "cell_type": "code",
      "source": [
        "# Supondo agora que temos um arranjo ordenado.\n",
        "# Nesse caso podemos dividir o problema em dois a cada passo verificando se o elemento está na metade\n",
        "# Superior ou inferior\n",
        "\n",
        "def binary_search(array, key):\n",
        "    lowPointer = 0\n",
        "    highPointer = len(array) - 1\n",
        "\n",
        "    while lowPointer <= highPointer:\n",
        "\n",
        "        midPointer = (lowPointer + highPointer)//2\n",
        "\n",
        "        if array[midPointer] == key:\n",
        "            return midPointer\n",
        "\n",
        "        elif array[midPointer] < key:\n",
        "            lowPointer = midPointer + 1\n",
        "\n",
        "        else:\n",
        "            highPointer = midPointer - 1\n"
      ],
      "metadata": {
        "id": "AmP_obtBorCL"
      },
      "execution_count": null,
      "outputs": []
    },
    {
      "cell_type": "code",
      "source": [
        "# Array de teste\n",
        "newArray = test_array()\n",
        "print(newArray)"
      ],
      "metadata": {
        "colab": {
          "base_uri": "https://localhost:8080/"
        },
        "id": "ZdbwaAIMs_a4",
        "outputId": "3da6b3b0-3527-4bfa-bbf6-fbbd321635e5"
      },
      "execution_count": null,
      "outputs": [
        {
          "output_type": "stream",
          "name": "stdout",
          "text": [
            "[37, 45, 9, 42, 4, 25, 40, 35, 20, 48, 10, 8, 31, 12, 13, 15, 29, 39, 3, 14, 21, 41, 26, 38, 23]\n"
          ]
        }
      ]
    },
    {
      "cell_type": "code",
      "source": [
        "#Ordenando o array\n",
        "newArray = insertion_sortAsc(newArray)\n",
        "\n",
        "print(newArray)\n",
        "print(\"\")\n",
        "\n",
        "# Vamos procurar pelo valor 40\n",
        "print(\"Number located at: %d\" %binary_search(newArray, 40))"
      ],
      "metadata": {
        "colab": {
          "base_uri": "https://localhost:8080/"
        },
        "id": "T7upiAp7tJi8",
        "outputId": "3e5a7ba1-0886-4d9b-9a01-d5b17af89a2c"
      },
      "execution_count": null,
      "outputs": [
        {
          "output_type": "stream",
          "name": "stdout",
          "text": [
            "[3, 4, 8, 9, 10, 12, 13, 14, 15, 20, 21, 23, 25, 26, 29, 31, 35, 37, 38, 39, 40, 41, 42, 45, 48]\n",
            "\n",
            "Number located at: 20\n"
          ]
        }
      ]
    },
    {
      "cell_type": "markdown",
      "source": [
        "### Busca Binária Recursiva"
      ],
      "metadata": {
        "id": "1b2ZmPNOvDWr"
      }
    },
    {
      "cell_type": "code",
      "source": [
        "# def recursive_BinSearch(array, key):\n"
      ],
      "metadata": {
        "id": "Oz1x7fRyt6GF"
      },
      "execution_count": null,
      "outputs": []
    }
  ]
}